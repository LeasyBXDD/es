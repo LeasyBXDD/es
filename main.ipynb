{
 "cells": [
  {
   "cell_type": "markdown",
   "source": [
    "第一部分：定义知识库（规则库）"
   ],
   "metadata": {
    "collapsed": false
   },
   "id": "6d25164766bc7997"
  },
  {
   "cell_type": "code",
   "execution_count": 1,
   "id": "initial_id",
   "metadata": {
    "collapsed": true,
    "ExecuteTime": {
     "end_time": "2024-03-14T11:18:06.969663Z",
     "start_time": "2024-03-14T11:18:06.966153Z"
    }
   },
   "outputs": [],
   "source": [
    "# 规则库\n",
    "rules = {\n",
    "    # 哺乳动物规则\n",
    "    \"mammal\": [\n",
    "        (\"有毛发\", \"哺乳动物\"),\n",
    "        (\"有乳腺\", \"哺乳动物\"),\n",
    "        (\"哺乳动物\", \"有毛发\"),\n",
    "        (\"哺乳动物\", \"有乳腺\")\n",
    "    ],\n",
    "    # 食肉动物规则\n",
    "    \"carnivore\": [\n",
    "        (\"食肉\", \"食肉动物\"),\n",
    "        (\"有犬齿\", \"食肉动物\"),\n",
    "        (\"食肉动物\", \"有犬齿\"),\n",
    "        (\"有爪\", \"食肉动物\"),\n",
    "        (\"食肉动物\", \"有爪\")\n",
    "    ],\n",
    "    # 特定动物规则\n",
    "    \"specific_animals\": [\n",
    "        (\"哺乳动物\", \"食肉动物\", \"黄褐色\", \"金钱豹\"),\n",
    "        (\"哺乳动物\", \"食肉动物\", \"黑色条纹\", \"老虎\"),\n",
    "        (\"有蹄\", \"长脖子\", \"长腿\", \"暗斑点\", \"长颈鹿\"),\n",
    "        (\"有蹄\", \"黑色条纹\", \"长脖子\", \"斑马\")\n",
    "    ]\n",
    "}"
   ]
  },
  {
   "cell_type": "markdown",
   "source": [
    "第二部分：定义规则引擎"
   ],
   "metadata": {
    "collapsed": false
   },
   "id": "ea5e0b3665cea70e"
  },
  {
   "cell_type": "code",
   "outputs": [],
   "source": [
    " # 推理引擎\n",
    "def apply_rules(facts, ruleset):\n",
    "    new_facts = set(facts)\n",
    "    while True:\n",
    "        applied = False\n",
    "        for premise, conclusion in ruleset:\n",
    "            if all(premise in facts for premise in premise):\n",
    "                new_facts.add(conclusion)\n",
    "                applied = True\n",
    "                break\n",
    "        if not applied:\n",
    "            break\n",
    "    return new_facts\n",
    "\n",
    "# 检查冲突\n",
    "def check_conflicts(facts, ruleset):\n",
    "    conflicts = []\n",
    "    for rule1 in ruleset:\n",
    "        for rule2 in ruleset:\n",
    "            if rule1 != rule2 and any(fact in facts for fact in rule1) and any(fact in facts for fact in rule2):\n",
    "                intersection = set(rule1[0]) & set(rule2[0])\n",
    "                if intersection and not intersection.isdisjoint(set(rule1[1])):\n",
    "                    conflicts.append((rule1, rule2))\n",
    "    return conflicts\n",
    "\n",
    "# 修正 infer 函数，确保传入的参数是规则列表\n",
    "def infer(facts, rules):\n",
    "    conflicts = check_conflicts(facts, rules)\n",
    "    if conflicts:\n",
    "        print(\"发现冲突规则：\", conflicts)\n",
    "        return set()\n",
    "    # 应用所有规则\n",
    "    new_facts = facts\n",
    "    for rule in rules:\n",
    "        premises = [fact for premise in rule for fact in premise]\n",
    "        if all(fact in new_facts for fact in premises):\n",
    "            conclusions = [conclusion for conclusion in rule if isinstance(conclusion, str) and not isinstance(conclusion, bool)]\n",
    "            new_facts.update(conclusions)\n",
    "    return new_facts"
   ],
   "metadata": {
    "collapsed": false,
    "ExecuteTime": {
     "end_time": "2024-03-14T11:20:30.397295Z",
     "start_time": "2024-03-14T11:20:30.393687Z"
    }
   },
   "id": "c8a5d7d044f6ad61",
   "execution_count": 6
  },
  {
   "cell_type": "markdown",
   "source": [
    "用户交互和系统运行"
   ],
   "metadata": {
    "collapsed": false
   },
   "id": "ef2bcb5b24b13a42"
  },
  {
   "cell_type": "code",
   "outputs": [
    {
     "name": "stdout",
     "output_type": "stream",
     "text": [
      "无法确定动物种类。\n"
     ]
    }
   ],
   "source": [
    "# 用户输入已知事实\n",
    "user_facts = input(\"请输入已知动物特征（用逗号分隔）: \").split(',')\n",
    "user_facts = set(user_facts)\n",
    "\n",
    "# 运行推理引擎\n",
    "inferred_facts = infer(user_facts, rules[\"mammal\"] + rules[\"carnivore\"] + rules[\"specific_animals\"])\n",
    "\n",
    "# 输出结果\n",
    "if \"金钱豹\" in inferred_facts or \"老虎\" in inferred_facts or \"长颈鹿\" in inferred_facts or \"斑马\" in inferred_facts:\n",
    "    print(\"根据您提供的特征，动物可能是：\", ', '.join(inferred_facts))\n",
    "else:\n",
    "    print(\"无法确定动物种类。\")"
   ],
   "metadata": {
    "collapsed": false,
    "ExecuteTime": {
     "end_time": "2024-03-14T11:23:07.667609Z",
     "start_time": "2024-03-14T11:23:04.823284Z"
    }
   },
   "id": "164d84c2de14523d",
   "execution_count": 10
  }
 ],
 "metadata": {
  "kernelspec": {
   "display_name": "Python 3",
   "language": "python",
   "name": "python3"
  },
  "language_info": {
   "codemirror_mode": {
    "name": "ipython",
    "version": 2
   },
   "file_extension": ".py",
   "mimetype": "text/x-python",
   "name": "python",
   "nbconvert_exporter": "python",
   "pygments_lexer": "ipython2",
   "version": "2.7.6"
  }
 },
 "nbformat": 4,
 "nbformat_minor": 5
}
